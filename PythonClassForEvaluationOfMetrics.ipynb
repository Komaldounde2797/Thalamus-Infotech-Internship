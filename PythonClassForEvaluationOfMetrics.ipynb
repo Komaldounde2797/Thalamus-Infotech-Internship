{
  "nbformat": 4,
  "nbformat_minor": 0,
  "metadata": {
    "colab": {
      "name": "PythonClassForEvaluationOfMetrics.ipynb",
      "provenance": [],
      "collapsed_sections": []
    },
    "kernelspec": {
      "name": "python3",
      "display_name": "Python 3"
    },
    "language_info": {
      "name": "python"
    }
  },
  "cells": [
    {
      "cell_type": "markdown",
      "metadata": {
        "id": "WjgzuPvXh-6a"
      },
      "source": [
        "#Evaluation Of Metrics\n",
        "Confusion Martix\n",
        "\n",
        "False positive rate | Type-I error\n",
        "\n",
        "False negative rate | Type-II error\n",
        "\n",
        "True negative rate | Specificity\n",
        "\n",
        "Negative predictive value\n",
        "\n",
        "False discovery rate\n",
        "\n",
        "True positive rate | Recall | Sensitivity\n",
        "\n",
        "Positive predictive value | Precision\n",
        "\n",
        "Accuracy\n",
        "\n",
        "F beta score\n",
        "\n",
        "F1 score\n",
        "\n",
        "F2 score\n",
        "\n",
        "Cohen Kappa\n",
        "\n",
        "Matthews correlation coefficient\n",
        "\n",
        "ROC curve\n",
        "\n",
        "ROC AUC score\n",
        "\n",
        "Corcondance And Discordance Ratio\n",
        "\n",
        "Somars D\n",
        "\n",
        "kendall's Tau\n",
        "\n",
        "Log loss\n",
        "\n",
        "Brier score\n",
        "\n",
        "Gini Coefficient\n"
      ]
    },
    {
      "cell_type": "code",
      "metadata": {
        "id": "8p61Q9KyLEF0"
      },
      "source": [
        "\n",
        "class Metrics:\n",
        "  import pandas as pd\n",
        "  import numpy as np\n",
        "  from sklearn.metrics import confusion_matrix\n",
        "  import seaborn as sns\n",
        "\n",
        "  def __init__(self, y_test, y_pred, y_prob):\n",
        "    self.y_test=y_test\n",
        "    self.y_pred=y_pred\n",
        "    self.y_prob=y_prob\n",
        "    \n",
        "  def CM(self):\n",
        "    df=pd.DataFrame({'y_test':self.y_test,'y_pred':self.y_pred})\n",
        "    print('==================== Confusion Matrix ========================')\n",
        "    sns.heatmap(confusion_matrix(self.y_test, self.y_pred),annot=True, )\n",
        "    \n",
        "    \n",
        "  def FPR(self):\n",
        "    df=pd.DataFrame({'y_test':self.y_test,'y_pred':self.y_pred})\n",
        "    tn, fp, fn, tp =confusion_matrix(self.y_test,self.y_pred).ravel()\n",
        "    false_positive_rate=fp/(fp+tn)\n",
        "    print(\"False Positive Rate is\",false_positive_rate)\n",
        "\n",
        "\n",
        "  def FNR(self):\n",
        "    df=pd.DataFrame({'y_test':self.y_test,'y_pred':self.y_pred})\n",
        "    tn, fp, fn, tp =confusion_matrix(self.y_test,self.y_pred).ravel()\n",
        "    false_negative_rate=fn/(fn+tp)\n",
        "    print(\"False Negative Rate is\",false_negative_rate)\n",
        "\n",
        "  def Specificity(self):\n",
        "    df=pd.DataFrame({'y_test':self.y_test,'y_pred':self.y_pred})\n",
        "    tn, fp, fn, tp =confusion_matrix(self.y_test,self.y_pred).ravel()\n",
        "    true_negative_rate=tn/(tn+fp)\n",
        "    print(\"Specificity is\",true_negative_rate)\n",
        "\n",
        "  def NPV(self):\n",
        "    df=pd.DataFrame({'y_test':self.y_test,'y_pred':self.y_pred}) \n",
        "    tn, fp, fn, tp = confusion_matrix(self.y_test, self.y_pred).ravel()\n",
        "    negative_predicted_values=tn/(tn+fn)\n",
        "    print(\"Negative Predicted Value is\",negative_predicted_value)\n",
        "\n",
        "  def FDR(self):\n",
        "    df=pd.DataFrame({'y_test':self.y_test,'y_pred':self.y_pred})\n",
        "    tn, fp, fn, tp = confusion_matrix(self.y_test, self.y_pred).ravel()\n",
        "    false_discovery_rate=fp/(fp+tp)\n",
        "    print(\"Flase Discovery Rate is\",false_discovery_rate)\n",
        "\n",
        "  def recall(self):\n",
        "    df=pd.DataFrame({'y_test':self.y_test,'y_pred':self.y_pred})\n",
        "    tn, fp, fn, tp = confusion_matrix(self.y_test, self.y_pred).ravel()\n",
        "    true_positive_rate=tp/(tp+fn)\n",
        "    print(\"Recall is\",true_positive_rate)\n",
        "\n",
        "  def precision(self):\n",
        "    df=pd.DataFrame({'y_test':self.y_test,'y_pred':self.y_pred})\n",
        "    tn, fp, fn, tp = confusion_matrix(self.y_test,self.y_pred).ravel()\n",
        "    positive_predicted_value=tp/(tp+fp)\n",
        "    print(\"Precision is\",positive_predicted_value)\n",
        "\n",
        "  def Accuracy(self):\n",
        "    df=pd.DataFrame({'y_test':self.y_test,'y_pred':self.y_pred})\n",
        "    tn, fp, fn, tp = confusion_matrix(self.y_test,self.y_pred).ravel()\n",
        "    score=(tp+tn)/(tp+fn+fp+tn)\n",
        "    print(\"Accuracy is\",score)\n",
        "\n",
        "  def f_beta(self,beta):\n",
        "    df=pd.DataFrame({'y_test':self.y_test,'y_pred':self.y_pred})\n",
        "    from sklearn.metrics import fbeta_score\n",
        "    fbeta=fbeta_score(self.y_test,self.y_pred,beta)            \n",
        "    print(\"f beta score is\",fbeta)\n",
        "\n",
        "  def Cohen_Kappa(self):\n",
        "    df=pd.DataFrame({'y_test':self.y_test,'y_pred':self.y_pred})\n",
        "    from sklearn.metrics import cohen_kappa_score\n",
        "    kappa=cohen_kappa_score(self.y_test,self.y_pred)\n",
        "    print(\"Cohen kappa score is\",kappa)\n",
        "   \n",
        "  def mcc(self):\n",
        "    df=pd.DataFrame({'y_test':self.y_test,'y_pred':self.y_pred})\n",
        "    from sklearn.metrics import matthews_corrcoef\n",
        "    mcc=matthews_corrcoef(self.y_test,self.y_pred)\n",
        "    print(\"Matthews correlation coefficient is\",mcc)\n",
        "\n",
        "  def RA_Score(self):\n",
        "    df=pd.DataFrame({'y_test':self.y_test,'y_pred':self.y_pred})\n",
        "    from sklearn.metrics import roc_auc_score\n",
        "    ra_score=roc_auc_score(self.y_test,self.y_pred)\n",
        "    print(\"AUC_ROC Score is\",ra_score)\n",
        "\n",
        "  def lloss(self):\n",
        "    df=pd.DataFrame({'y_test':self.y_test,'y_pred':self.y_pred})\n",
        "    from sklearn.metrics import log_loss\n",
        "    Logloss=log_loss(self.y_test,self.y_pred)\n",
        "    print(\"Log Loss is\",Logloss)\n",
        "\n",
        "\n",
        "  def BSL(self):\n",
        "    df1=pd.DataFrame({'y_test':self.y_test,'y_prob':self.y_prob})\n",
        "    from sklearn.metrics import brier_score_loss\n",
        "    BrierSL=brier_score_loss(self.y_test,self.y_prob)\n",
        "    print(\"Brier Score Loss  is\",BrierSL)\n",
        "\n",
        "  def gini(self):\n",
        "    df=pd.DataFrame({'y_test':self.y_test,'y_pred':self.y_pred})\n",
        "    assert (len(self.y_test) == len(self.y_pred))\n",
        "    all = np.asarray(np.c_[self.y_test, self.y_pred, np.arange(len(self.y_test))], dtype=np.float)\n",
        "    all = all[np.lexsort((all[:, 2], -1 * all[:, 1]))]\n",
        "    totalLosses = all[:, 0].sum()\n",
        "    giniSum = all[:, 0].cumsum().sum() / totalLosses\n",
        "    giniSum = (len(self.y_test) + 1) / 2\n",
        "    return giniSum / len(self.y_test)\n",
        "\n",
        "\n",
        "  # Get fpr and tpr at different threshold\n",
        "  def Fpr_Tpr(self,threshold):\n",
        "    true_positive=0;\n",
        "    false_positive=0;\n",
        "    true_negative=0;\n",
        "    false_negative=0;\n",
        "    for i in range(len(self.y_test)):\n",
        "        if self.y_test[i]==1:\n",
        "            if self.y_prob[i]>=threshold:\n",
        "                true_positive+=1\n",
        "            else:\n",
        "                false_negative+=1\n",
        "        else:\n",
        "            if self.y_prob[i]>=threshold:\n",
        "                false_positive+=1\n",
        "            else:\n",
        "                true_negative+=1\n",
        "    tpr=true_positive/(true_positive + false_negative)\n",
        "    fpr=false_positive/(false_positive + true_negative)\n",
        "    #print('True Positive Rate is:', tpr)\n",
        "    #print('False Positive Rate is:', fpr)\n",
        "    return tpr, fpr\n",
        "\n",
        "\n",
        "  #### Plot AUC-ROC\n",
        "  def Curve(self):\n",
        "    df=pd.DataFrame({'y_test':self.y_test,'y_prob':self.y_prob})\n",
        "    TPR=[]\n",
        "    FPR=[]\n",
        "    THRESHOLD=[]\n",
        "    i=0\n",
        "\n",
        "\n",
        "    #increemental step size for threshold\n",
        "    dx_step=0.02;\n",
        "    while(i<=1):\n",
        "        threshold=i\n",
        "        tpr,fpr=self.Fpr_Tpr(i)\n",
        "        TPR.append(tpr)\n",
        "        FPR.append(fpr)\n",
        "        THRESHOLD.append(threshold)\n",
        "        i+=dx_step\n",
        "\n",
        "    #optimum threshold\n",
        "    j=np.array(TPR)-np.array(FPR)\n",
        "    zipped=zip(TPR,FPR,j)\n",
        "    print(\"========Table for selecting Optimum Threshold=========\")\n",
        "    zz=pd.DataFrame(zipped)\n",
        "    zz.columns=['TPR','FPR','j']\n",
        "    zz['i']=THRESHOLD\n",
        "    print(zz)\n",
        "    print(\"====================================================\")\n",
        "    print(\"'Optimum threshold is\")\n",
        "    print(zz[zz['j']==max(j)])\n",
        "    print(\"====================================================\")\n",
        "\n",
        "    import matplotlib.pyplot as plt  \n",
        "    from numpy import trapz \n",
        "    from sklearn.metrics import roc_auc_score \n",
        "    plt.plot(FPR,TPR,marker='.');\n",
        "    plt.plot(THRESHOLD,THRESHOLD,'--')\n",
        "    plt.xlabel(\"False Positive Rate (FPR)\")\n",
        "    plt.ylabel(\"True Positive Rate (TPR)\")\n",
        "    plt.title(\"ROC Curve\")\n",
        "    plt.show()\n",
        "    area = trapz(TPR, dx=dx_step)\n",
        "    print('========================================================')\n",
        "    print(\"AUC:Area under the ROC curve is\", area)\n",
        "    return\n",
        "    \n",
        "\n",
        "    \n",
        "\n",
        "  def corcondance(self):\n",
        "    df3=pd.DataFrame({'prob':self.y_prob,'resp':self.y_test})\n",
        "    Event=df3.loc[self.y_test==1]\n",
        "    Non_event=df3.loc[self.y_test==0]\n",
        "    Pairs=0\n",
        "    Conc=0\n",
        "    Disc=0\n",
        "    Tie=0\n",
        "    for i in Event.prob:\n",
        "      for j in Non_event.prob:\n",
        "        Pairs+=1\n",
        "        if (i>j):\n",
        "          Conc+=1\n",
        "        elif (i<j):\n",
        "          Disc+=1\n",
        "        else:\n",
        "          Tie+=1\n",
        "    print(\"===========================================================\")\n",
        "    print(\"Total pairs\",Pairs)\n",
        "    print(\"Total Conc\", Conc)\n",
        "    print(\"Total Disc\", Disc)\n",
        "    print(\"Total Tie\", Tie)\n",
        "    print(\"The percentage of Concordance\",round(Conc/Pairs*100,3),\"%\")\n",
        "    print(\"The percentage of Discordance\",round(Disc/Pairs*100,3),\"%\")\n",
        "    print(\"The percentage of Tie\",round(Tie/Pairs*100,3),\"%\")\n",
        "\n",
        "\n",
        "  def somers_d(self):\n",
        "    df3=pd.DataFrame({'prob':self.y_prob,'resp':self.y_test})\n",
        "    Event=df3.loc[self.y_test==1]\n",
        "    Non_event=df3.loc[self.y_test==0]\n",
        "    Pairs=0\n",
        "    Conc=0\n",
        "    Disc=0\n",
        "    Tie=0\n",
        "    for i in Event.prob:\n",
        "      for j in Non_event.prob:\n",
        "        Pairs+=1\n",
        "        if (i>j):\n",
        "          Conc+=1\n",
        "        elif (i<j):\n",
        "          Disc+=1\n",
        "        else:\n",
        "          Tie+=1\n",
        "    print(\"==========================================================\")\n",
        "    print(\"Somers D is\",(Conc-Disc-Tie)/Pairs)\n",
        "\n",
        "\n",
        "  def kendallsTau(self):\n",
        "    df3=pd.DataFrame({'prob':self.y_prob,'resp':self.y_test})\n",
        "    Event=df3.loc[self.y_test==1]\n",
        "    Non_event=df3.loc[self.y_test==0]\n",
        "    Pairs=0\n",
        "    Conc=0\n",
        "    Disc=0\n",
        "    Tie=0\n",
        "    for i in Event.prob:\n",
        "      for j in Non_event.prob:\n",
        "        Pairs+=1\n",
        "        if (i>j):\n",
        "          Conc+=1\n",
        "        elif (i<j):\n",
        "          Disc+=1\n",
        "        else:\n",
        "          Tie+=1\n",
        "    print('========================================================')\n",
        "    print(\"Kendalls Tau is\",(Conc-Disc)/(Conc+Disc))"
      ],
      "execution_count": null,
      "outputs": []
    },
    {
      "cell_type": "code",
      "metadata": {
        "id": "eNg7ksMgL8-A"
      },
      "source": [
        "import pandas as pd\n",
        "import numpy as np\n",
        "from sklearn.metrics import confusion_matrix\n",
        "import seaborn as sns"
      ],
      "execution_count": null,
      "outputs": []
    },
    {
      "cell_type": "code",
      "metadata": {
        "id": "htqP5yJ0MCb_"
      },
      "source": [
        "d=pd.read_csv(r'/content/drive/MyDrive/Thalamus internship/DS internship thalamus/output.csv')"
      ],
      "execution_count": null,
      "outputs": []
    },
    {
      "cell_type": "code",
      "metadata": {
        "id": "c0yjr6v1Ophf"
      },
      "source": [
        "y_pred=[]\n",
        "for i in d['prob']:\n",
        "  if i > 0.42:\n",
        "    y_pred.append(1)\n",
        "  else:\n",
        "    y_pred.append(0)\n",
        "\n",
        "d['y_pred']=y_pred  "
      ],
      "execution_count": null,
      "outputs": []
    },
    {
      "cell_type": "code",
      "metadata": {
        "id": "TVZvV5jUMGC1"
      },
      "source": [
        "d.columns=['y_test','y_prob','y_pred']"
      ],
      "execution_count": null,
      "outputs": []
    },
    {
      "cell_type": "code",
      "metadata": {
        "id": "367_-OiaO1SQ"
      },
      "source": [
        "k=Metrics(d['y_test'],d['y_pred'],d['y_prob'])"
      ],
      "execution_count": null,
      "outputs": []
    },
    {
      "cell_type": "code",
      "metadata": {
        "colab": {
          "base_uri": "https://localhost:8080/",
          "height": 283
        },
        "id": "kPDIeaV9MLmJ",
        "outputId": "861ff0ec-edfe-4cfe-c8c4-fabe61d9af3f"
      },
      "source": [
        "k.CM()"
      ],
      "execution_count": null,
      "outputs": [
        {
          "output_type": "stream",
          "text": [
            "==================== Confusion Matrix ========================\n"
          ],
          "name": "stdout"
        },
        {
          "output_type": "display_data",
          "data": {
            "image/png": "[encoded data removed]",
            "text/plain": [
              "<Figure size 432x288 with 2 Axes>"
            ]
          },
          "metadata": {
            "tags": [],
            "needs_background": "light"
          }
        }
      ]
    },
    {
      "cell_type": "code",
      "metadata": {
        "colab": {
          "base_uri": "https://localhost:8080/",
          "height": 1000
        },
        "id": "cfQw3uI5OyGV",
        "outputId": "724731bf-09b3-40dc-ca8a-cc6d4ed9c77a"
      },
      "source": [
        "k.Curve()"
      ],
      "execution_count": null,
      "outputs": [
        {
          "output_type": "stream",
          "text": [
            "========Table for selecting Optimum Threshold=========\n",
            "         TPR       FPR         j     i\n",
            "0   1.000000  1.000000  0.000000  0.00\n",
            "1   1.000000  0.987468  0.012532  0.02\n",
            "2   1.000000  0.940416  0.059584  0.04\n",
            "3   0.998745  0.880497  0.118248  0.06\n",
            "4   0.997992  0.818941  0.179051  0.08\n",
            "5   0.996486  0.760460  0.236026  0.10\n",
            "6   0.993474  0.708829  0.284645  0.12\n",
            "7   0.991717  0.659537  0.332179  0.14\n",
            "8   0.986948  0.615192  0.371756  0.16\n",
            "9   0.982430  0.572083  0.410347  0.18\n",
            "10  0.977912  0.530878  0.447033  0.20\n",
            "11  0.968624  0.494018  0.474606  0.22\n",
            "12  0.963604  0.456791  0.506814  0.24\n",
            "13  0.953062  0.425043  0.528019  0.26\n",
            "14  0.944779  0.393564  0.551215  0.28\n",
            "15  0.934488  0.363053  0.571435  0.30\n",
            "16  0.923444  0.336352  0.587092  0.32\n",
            "17  0.912902  0.313494  0.599407  0.34\n",
            "18  0.897841  0.291338  0.606503  0.36\n",
            "19  0.884036  0.272290  0.611746  0.38\n",
            "20  0.871737  0.255447  0.616290  0.40\n",
            "21  0.858936  0.236867  0.622069  0.42\n",
            "22  0.842620  0.220559  0.622062  0.44\n",
            "23  0.826054  0.205989  0.620066  0.46\n",
            "24  0.808986  0.192955  0.616030  0.48\n",
            "25  0.792922  0.180624  0.612297  0.50\n",
            "26  0.772339  0.167424  0.604915  0.52\n",
            "27  0.752510  0.156563  0.595947  0.54\n",
            "28  0.733936  0.147307  0.586629  0.56\n",
            "29  0.714106  0.138317  0.575789  0.58\n",
            "30  0.694277  0.128927  0.565350  0.60\n",
            "31  0.674950  0.120739  0.554211  0.62\n",
            "32  0.652861  0.111650  0.541212  0.64\n",
            "33  0.630020  0.102927  0.527093  0.66\n",
            "34  0.605673  0.094941  0.510732  0.68\n",
            "35  0.579568  0.086519  0.493049  0.70\n",
            "36  0.553966  0.079802  0.474164  0.72\n",
            "37  0.532882  0.073553  0.459329  0.74\n",
            "38  0.505773  0.067605  0.438168  0.76\n",
            "39  0.480422  0.061723  0.418699  0.78\n",
            "40  0.454317  0.056677  0.397640  0.80\n",
            "41  0.425201  0.051564  0.373637  0.82\n",
            "42  0.394076  0.046351  0.347726  0.84\n",
            "43  0.365211  0.040970  0.324240  0.86\n",
            "44  0.334086  0.036125  0.297961  0.88\n",
            "45  0.295432  0.031146  0.264286  0.90\n",
            "46  0.255773  0.026367  0.229406  0.92\n",
            "47  0.214859  0.021621  0.193238  0.94\n",
            "48  0.172691  0.016676  0.156015  0.96\n",
            "49  0.111446  0.010961  0.100485  0.98\n",
            "====================================================\n",
            "'Optimum threshold is\n",
            "         TPR       FPR         j     i\n",
            "21  0.858936  0.236867  0.622069  0.42\n",
            "====================================================\n"
          ],
          "name": "stdout"
        },
        {
          "output_type": "display_data",
          "data": {
            "image/png": "[encoded data removed]",
            "text/plain": [
              "<Figure size 432x288 with 1 Axes>"
            ]
          },
          "metadata": {
            "tags": [],
            "needs_background": "light"
          }
        },
        {
          "output_type": "stream",
          "text": [
            "========================================================\n",
            "AUC:Area under the ROC curve is 0.7132078313253013\n"
          ],
          "name": "stdout"
        }
      ]
    },
    {
      "cell_type": "code",
      "metadata": {
        "colab": {
          "base_uri": "https://localhost:8080/"
        },
        "id": "uKIo3jtyO4AP",
        "outputId": "081c471b-5a51-45ed-9c13-de69d5d86222"
      },
      "source": [
        "k.RA_Score()"
      ],
      "execution_count": null,
      "outputs": [
        {
          "output_type": "stream",
          "text": [
            "AUC_ROC Score is 0.8110345069624844\n"
          ],
          "name": "stdout"
        }
      ]
    },
    {
      "cell_type": "code",
      "metadata": {
        "colab": {
          "base_uri": "https://localhost:8080/"
        },
        "id": "23nSc7fVO6V8",
        "outputId": "448534c4-c71c-416e-a514-0ce901fdf565"
      },
      "source": [
        "k.FPR()"
      ],
      "execution_count": null,
      "outputs": [
        {
          "output_type": "stream",
          "text": [
            "False Positive Rate is 0.23686672904691886\n"
          ],
          "name": "stdout"
        }
      ]
    },
    {
      "cell_type": "code",
      "metadata": {
        "colab": {
          "base_uri": "https://localhost:8080/"
        },
        "id": "LPgd94cNO8Q3",
        "outputId": "d12930e1-3391-4d92-f59e-43887e74906f"
      },
      "source": [
        "k.f_beta(1)"
      ],
      "execution_count": null,
      "outputs": [
        {
          "output_type": "stream",
          "text": [
            "f beta score is 0.4721953911963571\n"
          ],
          "name": "stdout"
        }
      ]
    },
    {
      "cell_type": "code",
      "metadata": {
        "colab": {
          "base_uri": "https://localhost:8080/"
        },
        "id": "cpWvQeekO925",
        "outputId": "ab739180-c518-4a8d-ef0c-330e77253a9e"
      },
      "source": [
        "k.f_beta(0.5)"
      ],
      "execution_count": null,
      "outputs": [
        {
          "output_type": "stream",
          "text": [
            "f beta score is 0.3717625586650444\n"
          ],
          "name": "stdout"
        }
      ]
    },
    {
      "cell_type": "code",
      "metadata": {
        "colab": {
          "base_uri": "https://localhost:8080/"
        },
        "id": "vFjfBJ88PAl0",
        "outputId": "92e35c53-907c-4bcd-df6e-75eeb3c45402"
      },
      "source": [
        "k.f_beta(2)"
      ],
      "execution_count": null,
      "outputs": [
        {
          "output_type": "stream",
          "text": [
            "f beta score is 0.6469787491492097\n"
          ],
          "name": "stdout"
        }
      ]
    },
    {
      "cell_type": "code",
      "metadata": {
        "colab": {
          "base_uri": "https://localhost:8080/"
        },
        "id": "wuMUME81PCDd",
        "outputId": "94eeecef-ccec-43eb-bd01-310e43a520f3"
      },
      "source": [
        "k.BSL()"
      ],
      "execution_count": null,
      "outputs": [
        {
          "output_type": "stream",
          "text": [
            "Brier Score Loss  is 0.14116564956714456\n"
          ],
          "name": "stdout"
        }
      ]
    },
    {
      "cell_type": "code",
      "metadata": {
        "colab": {
          "base_uri": "https://localhost:8080/"
        },
        "id": "Ql4Ew5UaPDbx",
        "outputId": "eea9d580-79c3-49ff-e8e3-f6d674d28506"
      },
      "source": [
        "k.gini()"
      ],
      "execution_count": null,
      "outputs": [
        {
          "output_type": "execute_result",
          "data": {
            "text/plain": [
              "0.5000147457827061"
            ]
          },
          "metadata": {
            "tags": []
          },
          "execution_count": 18
        }
      ]
    },
    {
      "cell_type": "code",
      "metadata": {
        "colab": {
          "base_uri": "https://localhost:8080/"
        },
        "id": "AbitsSO9PFB3",
        "outputId": "8f0047b8-c0ef-4ea7-c842-463be0b75606"
      },
      "source": [
        "k.lloss()"
      ],
      "execution_count": null,
      "outputs": [
        {
          "output_type": "stream",
          "text": [
            "Log Loss is 7.792476907150287\n"
          ],
          "name": "stdout"
        }
      ]
    },
    {
      "cell_type": "code",
      "metadata": {
        "colab": {
          "base_uri": "https://localhost:8080/"
        },
        "id": "o0asCsu5PGZ3",
        "outputId": "f9b12835-d612-40fe-d695-7f60352e4cf5"
      },
      "source": [
        "k.Fpr_Tpr(0.42)"
      ],
      "execution_count": null,
      "outputs": [
        {
          "output_type": "execute_result",
          "data": {
            "text/plain": [
              "(0.8589357429718876, 0.23686672904691886)"
            ]
          },
          "metadata": {
            "tags": []
          },
          "execution_count": 20
        }
      ]
    },
    {
      "cell_type": "code",
      "metadata": {
        "colab": {
          "base_uri": "https://localhost:8080/"
        },
        "id": "1hBiTxKRPRV1",
        "outputId": "d85f6275-7fce-4ae6-9b51-7b78d46ae0d6"
      },
      "source": [
        "k.corcondance()"
      ],
      "execution_count": null,
      "outputs": [
        {
          "output_type": "stream",
          "text": [
            "===========================================================\n",
            "Total pairs 119217216\n",
            "Total Conc 105291696\n",
            "Total Disc 13925520\n",
            "Total Tie 0\n",
            "The percentage of Concordance 88.319 %\n",
            "The percentage of Discordance 11.681 %\n",
            "The percentage of Tie 0.0 %\n"
          ],
          "name": "stdout"
        }
      ]
    },
    {
      "cell_type": "code",
      "metadata": {
        "colab": {
          "base_uri": "https://localhost:8080/"
        },
        "id": "98PsU1KYPTFZ",
        "outputId": "2b759f35-6361-4148-c5fa-ef74d6fa45af"
      },
      "source": [
        "k.somers_d()"
      ],
      "execution_count": null,
      "outputs": [
        {
          "output_type": "stream",
          "text": [
            "==========================================================\n",
            "Somers D is 0.7663840766085328\n"
          ],
          "name": "stdout"
        }
      ]
    },
    {
      "cell_type": "code",
      "metadata": {
        "id": "QBfAsEXfPUi2"
      },
      "source": [
        "k.kendallsTau()"
      ],
      "execution_count": null,
      "outputs": []
    },
    {
      "cell_type": "code",
      "metadata": {
        "id": "wU0tnD90PWos"
      },
      "source": [
        ""
      ],
      "execution_count": null,
      "outputs": []
    }
  ]
}